{
 "cells": [
  {
   "cell_type": "markdown",
   "metadata": {},
   "source": [
    "# Imports"
   ]
  },
  {
   "cell_type": "code",
   "execution_count": 1,
   "metadata": {},
   "outputs": [
    {
     "name": "stdout",
     "output_type": "stream",
     "text": [
      "WARNING:tensorflow:From c:\\Users\\felix\\miniforge3\\envs\\qml\\Lib\\site-packages\\tf_keras\\src\\losses.py:2976: The name tf.losses.sparse_softmax_cross_entropy is deprecated. Please use tf.compat.v1.losses.sparse_softmax_cross_entropy instead.\n",
      "\n",
      "WARNING:tensorflow:From c:\\Users\\felix\\miniforge3\\envs\\qml\\Lib\\site-packages\\tensorflow_probability\\python\\internal\\backend\\numpy\\_utils.py:48: The name tf.logging.TaskLevelStatusMessage is deprecated. Please use tf.compat.v1.logging.TaskLevelStatusMessage instead.\n",
      "\n",
      "WARNING:tensorflow:From c:\\Users\\felix\\miniforge3\\envs\\qml\\Lib\\site-packages\\tensorflow_probability\\python\\internal\\backend\\numpy\\_utils.py:48: The name tf.control_flow_v2_enabled is deprecated. Please use tf.compat.v1.control_flow_v2_enabled instead.\n",
      "\n"
     ]
    },
    {
     "name": "stderr",
     "output_type": "stream",
     "text": [
      "c:\\Users\\felix\\miniforge3\\envs\\qml\\Lib\\site-packages\\gpflow\\versions.py:1: UserWarning: pkg_resources is deprecated as an API. See https://setuptools.pypa.io/en/latest/pkg_resources.html. The pkg_resources package is slated for removal as early as 2025-11-30. Refrain from using this package or pin to Setuptools<81.\n",
      "  import pkg_resources\n"
     ]
    }
   ],
   "source": [
    "import json\n",
    "from ast import literal_eval\n",
    "import numpy as np\n",
    "import kernels"
   ]
  },
  {
   "cell_type": "markdown",
   "metadata": {},
   "source": [
    "# Load in data"
   ]
  },
  {
   "cell_type": "code",
   "execution_count": null,
   "metadata": {},
   "outputs": [],
   "source": [
    "# open the json file with the quantum kernel calculation results\n",
    "with open('kernel_qpu_test_results/kernel_cpu_test_results_240829.json') as f:\n",
    "    data = json.loads(f.read())\n",
    "\n",
    "num_features = data['kernel_data']['num_features']\n",
    "num_repetitions = data['kernel_data']['num_repetitions']\n",
    "\n",
    "xrd = np.array(data['xrd_data']['xrd'])\n",
    "theta = np.array(data['xrd_data']['theta'])\n",
    "num_points = xrd.shape[0]"
   ]
  },
  {
   "cell_type": "code",
   "execution_count": null,
   "metadata": {},
   "outputs": [],
   "source": [
    "true_labels = np.array([\n",
    "    3, 3, 3, 3,\n",
    "    2, 2, 2, 2,\n",
    "    4, 4, 4, 4, \n",
    "    1, 1, 1, 1,\n",
    "    0, 0, 0, 0,\n",
    "])"
   ]
  },
  {
   "cell_type": "code",
   "execution_count": 5,
   "metadata": {},
   "outputs": [],
   "source": [
    "qpu_kernel_matrix = np.ones((num_points, num_points), dtype=float)\n",
    "\n",
    "for (k, v) in data['kernel_entries'].items():\n",
    "    i, j = literal_eval(k)\n",
    "\n",
    "    try:\n",
    "        qpu_kernel_matrix[i, j] = v['result']['0']\n",
    "        qpu_kernel_matrix[j, i] = v['result']['0']\n",
    "    except KeyError:\n",
    "        qpu_kernel_matrix[i, j] = 0\n",
    "        qpu_kernel_matrix[j, i] = 0"
   ]
  },
  {
   "cell_type": "markdown",
   "metadata": {},
   "source": [
    "# Recreate classical kernel for comparison"
   ]
  },
  {
   "cell_type": "code",
   "execution_count": 6,
   "metadata": {},
   "outputs": [],
   "source": [
    "cpu_kernel_matrix = kernels.get_cosine_kernel_matrix()"
   ]
  },
  {
   "cell_type": "markdown",
   "metadata": {},
   "source": [
    "# Calculate $g_{CQ}$"
   ]
  },
  {
   "cell_type": "code",
   "execution_count": null,
   "metadata": {},
   "outputs": [],
   "source": [
    "cU, cS, cVh = np.linalg.svd(cpu_kernel_matrix, hermitian=True)\n",
    "\n",
    "qU, qS, qVh = np.linalg.svd(qpu_kernel_matrix, hermitian=True)"
   ]
  },
  {
   "cell_type": "code",
   "execution_count": 9,
   "metadata": {},
   "outputs": [],
   "source": [
    "sqrt_qK = qU @ np.diag(np.sqrt(qS)) @ qVh"
   ]
  },
  {
   "cell_type": "code",
   "execution_count": 10,
   "metadata": {},
   "outputs": [],
   "source": [
    "inv_cK = cVh.T @ np.diag(cS**(-1)) @ cU.T"
   ]
  },
  {
   "cell_type": "code",
   "execution_count": 11,
   "metadata": {},
   "outputs": [],
   "source": [
    "tS = np.linalg.svd(sqrt_qK @ inv_cK @ sqrt_qK,\n",
    "                   compute_uv=False)"
   ]
  },
  {
   "cell_type": "code",
   "execution_count": null,
   "metadata": {},
   "outputs": [
    {
     "data": {
      "text/plain": [
       "array([1, 1, 1, 0, 0, 0, 0, 1, 0, 0, 1, 1, 1, 0, 1, 0, 1, 1, 1, 0])"
      ]
     },
     "execution_count": 12,
     "metadata": {},
     "output_type": "execute_result"
    }
   ],
   "source": [
    "eig_vals, eig_vecs = np.linalg.eig(sqrt_qK @ inv_cK @ sqrt_qK)\n",
    "\n",
    "# calculate the display the engineered binary labels\n",
    "y = np.array([0 if x < 0 else 1 for x in sqrt_qK @ eig_vecs[:, 0]])\n",
    "\n",
    "y"
   ]
  },
  {
   "cell_type": "code",
   "execution_count": 13,
   "metadata": {},
   "outputs": [],
   "source": [
    "g_cq = np.sqrt(np.max(tS))"
   ]
  },
  {
   "cell_type": "code",
   "execution_count": 14,
   "metadata": {},
   "outputs": [
    {
     "name": "stdout",
     "output_type": "stream",
     "text": [
      "11.785615438001624\n"
     ]
    }
   ],
   "source": [
    "print(g_cq)"
   ]
  },
  {
   "cell_type": "markdown",
   "metadata": {},
   "source": [
    "# Calculate model complexities"
   ]
  },
  {
   "cell_type": "code",
   "execution_count": 15,
   "metadata": {},
   "outputs": [],
   "source": [
    "inv_qK = qVh.T @ np.diag(qS**(-1)) @ qU.T"
   ]
  },
  {
   "cell_type": "code",
   "execution_count": null,
   "metadata": {},
   "outputs": [],
   "source": [
    "s_C = 0\n",
    "s_Q = 0\n",
    "\n",
    "for i in range(inv_cK.shape[0]):\n",
    "    for j in range(inv_cK.shape[1]):\n",
    "        s_C += inv_cK[i, j] * (1 if true_labels[i] == true_labels[j] else -1)\n",
    "        s_Q += inv_qK[i, j] * (1 if true_labels[i] == true_labels[j] else -1)"
   ]
  },
  {
   "cell_type": "code",
   "execution_count": 17,
   "metadata": {},
   "outputs": [
    {
     "name": "stdout",
     "output_type": "stream",
     "text": [
      "37.19709107574981\n",
      "19.43772520120927\n"
     ]
    }
   ],
   "source": [
    "print(s_C)\n",
    "print(s_Q)"
   ]
  }
 ],
 "metadata": {
  "kernelspec": {
   "display_name": "qml",
   "language": "python",
   "name": "python3"
  },
  "language_info": {
   "codemirror_mode": {
    "name": "ipython",
    "version": 3
   },
   "file_extension": ".py",
   "mimetype": "text/x-python",
   "name": "python",
   "nbconvert_exporter": "python",
   "pygments_lexer": "ipython3",
   "version": "3.12.11"
  }
 },
 "nbformat": 4,
 "nbformat_minor": 2
}
