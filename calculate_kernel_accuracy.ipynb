{
 "cells": [
  {
   "cell_type": "markdown",
   "metadata": {},
   "source": [
    "# Imports"
   ]
  },
  {
   "cell_type": "code",
   "execution_count": 22,
   "metadata": {},
   "outputs": [],
   "source": [
    "from scipy.io import loadmat\n",
    "import numpy as np\n",
    "import kernels\n",
    "import gpflow\n",
    "from sklearn.model_selection import train_test_split\n",
    "import json"
   ]
  },
  {
   "cell_type": "markdown",
   "metadata": {},
   "source": [
    "# Load in data"
   ]
  },
  {
   "cell_type": "code",
   "execution_count": null,
   "metadata": {},
   "outputs": [],
   "source": [
    "full_data = loadmat(\"FeGaPd_full_data_220104a.mat\")\n",
    "\n",
    "# 'true', human-assigned labels\n",
    "full_true_labels = full_data[\"labels_col\"][0][1].flatten() - 1\n",
    "\n",
    "# use either the true labels or the engineered labels\n",
    "# true_labels = full_true_labels[kernels.DATA_INDICES]\n",
    "true_labels = np.array(\n",
    "    [1, 1, 1, 0, 0, 0, 0, 1, 0, 0, 1, 1, 1, 0, 1, 0, 1, 1, 1, 0]\n",
    ")"
   ]
  },
  {
   "cell_type": "markdown",
   "metadata": {},
   "source": [
    "# Data Generation"
   ]
  },
  {
   "cell_type": "code",
   "execution_count": 24,
   "metadata": {},
   "outputs": [],
   "source": [
    "FOLDER = \"./FMI_results/gp_comparison/\"\n",
    "NUM_SAMPLES = 20\n",
    "FILE_SUFFIX = \"quantum\" # kernel suffix for output json"
   ]
  },
  {
   "cell_type": "code",
   "execution_count": null,
   "metadata": {},
   "outputs": [],
   "source": [
    "# define complete gpflow model\n",
    "kernel = kernels.FixedPrecomputedGPKernel(\n",
    "    kernels.get_measured_quantum_kernel_matrix(), # select from kernels.py\n",
    ")\n",
    "\n",
    "# invlink = gpflow.likelihoods.RobustMax(2)\n",
    "# likelihood = gpflow.likelihoods.MultiClass(num_classes=2, invlink=invlink)\n",
    "\n",
    "\n",
    "def get_GP_labels(train_indices, train_labels, x_test):\n",
    "    model = gpflow.models.VGP(\n",
    "        data=(train_indices, train_labels),\n",
    "        kernel=kernel,\n",
    "        likelihood=gpflow.likelihoods.Bernoulli(),\n",
    "        # likelihood=likelihood,\n",
    "        # num_latent_gps=2,\n",
    "    )\n",
    "\n",
    "    # fit the GP\n",
    "    opt = gpflow.optimizers.Scipy()\n",
    "    _ = opt.minimize(\n",
    "        closure=model.training_loss,\n",
    "        variables=model.trainable_variables,  # type: ignore\n",
    "        compile=False,\n",
    "        # method=\"TNC\",\n",
    "        # options={\"maxiter\": 1000},\n",
    "    )\n",
    "\n",
    "    y_mean, _ = model.predict_y(x_test)\n",
    "\n",
    "    # return np.argmax(y_mean.numpy(), axis=1)\n",
    "    return np.round(y_mean.numpy().flatten()).astype(int)  # type: ignore"
   ]
  },
  {
   "cell_type": "code",
   "execution_count": 26,
   "metadata": {},
   "outputs": [],
   "source": [
    "for num_training_points in range(5, 20):\n",
    "    all_test_points = []\n",
    "    all_predicted_labels = []\n",
    "\n",
    "    for sample_number in range(NUM_SAMPLES):\n",
    "        if num_training_points == 19:\n",
    "            # if all by 1 training points are missing, just enumerate options\n",
    "            x_test = np.array([sample_number])\n",
    "            x_train = np.delete(np.arange(20), x_test[0])\n",
    "\n",
    "            y_train = true_labels[x_train]\n",
    "            y_test = true_labels[x_test]\n",
    "        else:\n",
    "            # otherwise randomly choose a test / train split\n",
    "            split = train_test_split(\n",
    "                np.arange(20),\n",
    "                true_labels,\n",
    "                train_size=num_training_points,\n",
    "                # stratify=true_labels,\n",
    "            )\n",
    "\n",
    "            x_train, x_test, y_train, y_test = split\n",
    "\n",
    "        # get GP performance\n",
    "        gp_labels = get_GP_labels(\n",
    "            *[arg.reshape((-1, 1)).astype(float) for arg in [x_train, y_train, x_test]],\n",
    "        )\n",
    "\n",
    "        # json doesn't like int32 for some reason, so convert to 'regular' int\n",
    "        all_test_points.append([int(i) for i in x_test])\n",
    "        all_predicted_labels.append([int(i) for i in gp_labels])\n",
    "\n",
    "    with open(f\"{FOLDER}{num_training_points}_points_{FILE_SUFFIX}.json\", \"w\") as f:\n",
    "        json.dump(\n",
    "            {\"test_points\": all_test_points, \"predicted_labels\": all_predicted_labels},\n",
    "            f,\n",
    "        )"
   ]
  }
 ],
 "metadata": {
  "kernelspec": {
   "display_name": "qml",
   "language": "python",
   "name": "python3"
  },
  "language_info": {
   "codemirror_mode": {
    "name": "ipython",
    "version": 3
   },
   "file_extension": ".py",
   "mimetype": "text/x-python",
   "name": "python",
   "nbconvert_exporter": "python",
   "pygments_lexer": "ipython3",
   "version": "3.12.11"
  }
 },
 "nbformat": 4,
 "nbformat_minor": 2
}
