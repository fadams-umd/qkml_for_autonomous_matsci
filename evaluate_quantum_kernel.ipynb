{
 "cells": [
  {
   "cell_type": "markdown",
   "metadata": {},
   "source": [
    "# Imports"
   ]
  },
  {
   "cell_type": "code",
   "execution_count": null,
   "metadata": {},
   "outputs": [],
   "source": [
    "from scipy.io import loadmat\n",
    "import numpy as np\n",
    "\n",
    "from qiskit_machine_learning.kernels import FidelityQuantumKernel\n",
    "from qiskit.primitives import BackendSampler\n",
    "from qiskit.algorithms.state_fidelities import ComputeUncompute  # type: ignore\n",
    "from qiskit_ionq import IonQProvider\n",
    "\n",
    "from feature_map import PetersFeatureMap"
   ]
  },
  {
   "cell_type": "markdown",
   "metadata": {},
   "source": [
    "# Initialization & Data Selection"
   ]
  },
  {
   "cell_type": "code",
   "execution_count": null,
   "metadata": {},
   "outputs": [],
   "source": [
    "data = loadmat(\"FeGaPd_full_data_220104a.mat\")\n",
    "\n",
    "# x ray diffraction data\n",
    "xrd = data[\"X\"][:, 631:1181]\n",
    "\n",
    "train_indices = np.array(\n",
    "    [\n",
    "        25,\n",
    "        68,\n",
    "        112,\n",
    "        161,\n",
    "        37,\n",
    "        91,\n",
    "        136,\n",
    "        184,\n",
    "        77,\n",
    "        85,\n",
    "        128,\n",
    "        224,\n",
    "        168,\n",
    "        229,\n",
    "        220,\n",
    "        233,\n",
    "        195,\n",
    "        210,\n",
    "        256,\n",
    "        264,\n",
    "    ]\n",
    ")"
   ]
  },
  {
   "cell_type": "markdown",
   "metadata": {},
   "source": [
    "# Pre-process the XRD data"
   ]
  },
  {
   "cell_type": "code",
   "execution_count": null,
   "metadata": {},
   "outputs": [],
   "source": [
    "# kernel hyperparameters\n",
    "num_qubits = 25\n",
    "normalize_scale = 0.001\n",
    "\n",
    "num_features = 6 * num_qubits\n",
    "\n",
    "theta_indices = np.linspace(\n",
    "    start=0, stop=xrd.shape[1] - 1, num=num_features, dtype=np.int16\n",
    ")\n",
    "\n",
    "# subsample the x-ray diffraction spectra\n",
    "xrd_sample = xrd[np.ix_(train_indices, theta_indices)]\n",
    "\n",
    "# logistically normalize the data\n",
    "xrd_sample = 1 / (1 + np.exp(-normalize_scale * xrd_sample))\n",
    "xrd_sample /= np.sum(xrd_sample)\n",
    "\n",
    "# normalize the XRD samples to within [0, pi]\n",
    "min = np.min(xrd_sample)\n",
    "max = np.max(xrd_sample)\n",
    "\n",
    "normalized_xrd_sample = np.pi * (xrd_sample - min) / (max - min)"
   ]
  },
  {
   "cell_type": "markdown",
   "metadata": {},
   "source": [
    "# Instantiate Kernel"
   ]
  },
  {
   "cell_type": "code",
   "execution_count": null,
   "metadata": {},
   "outputs": [],
   "source": [
    "feature_map = PetersFeatureMap(feature_dimension=num_features, reps=1)\n",
    "\n",
    "with open(\"api_key.txt\") as f:\n",
    "    api_key = f.read()\n",
    "\n",
    "provider = IonQProvider(api_key)\n",
    "\n",
    "# ionq_backend = provider.get_backend('ionq_qpu.aria')\n",
    "ionq_backend = provider.get_backend(\"ionq_simulator\")\n",
    "\n",
    "sampler = BackendSampler(backend=ionq_backend, options={\"noise_model\": \"aria-1\"})\n",
    "\n",
    "fidelity = ComputeUncompute(sampler=sampler)\n",
    "\n",
    "kernel = FidelityQuantumKernel(feature_map=feature_map, fidelity=fidelity)\n",
    "\n",
    "# kernel = FidelityQuantumKernel(feature_map=feature_map)"
   ]
  },
  {
   "cell_type": "markdown",
   "metadata": {},
   "source": [
    "# Evaluate Data"
   ]
  },
  {
   "cell_type": "code",
   "execution_count": null,
   "metadata": {},
   "outputs": [],
   "source": [
    "# NOTE: will hang until IonQ job finishes; okay to interrupt once jobs are submitted\n",
    "kernel_matrix = kernel.evaluate(normalized_xrd_sample)"
   ]
  }
 ],
 "metadata": {
  "kernelspec": {
   "display_name": "qml",
   "language": "python",
   "name": "python3"
  },
  "language_info": {
   "codemirror_mode": {
    "name": "ipython",
    "version": 3
   },
   "file_extension": ".py",
   "mimetype": "text/x-python",
   "name": "python",
   "nbconvert_exporter": "python",
   "pygments_lexer": "ipython3",
   "version": "3.9.13"
  }
 },
 "nbformat": 4,
 "nbformat_minor": 2
}
